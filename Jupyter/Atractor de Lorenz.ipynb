{
 "cells": [
  {
   "cell_type": "markdown",
   "id": "1df62498",
   "metadata": {},
   "source": [
    "# Atractor de Lorenz\n",
    "\n",
    "Consiste en el siguiente sistema de ecuaciones diferenciales acopladas:\n",
    "\n",
    "$$\n",
    "\\frac{dx}{dt}=\\sigma(y-x)\\quad\n",
    "\\frac{dy}{dt}=x(\\rho-z)-y\\quad\n",
    "\\frac{dz}{dt}=xy-\\beta z\n",
    "$$\n",
    "\n",
    "Donde $x$ es proporcional a la tasa de convección, $y$ a la variación de temperatura horizontal y $z$ a la variación de temperatura vertical. Las constantes $\\sigma$, $\\rho$ y $\\beta$ son parametros del sistema.\n",
    "\n",
    "Para este sistema no existen soluciones análiticas por lo que se optará por utilizar el método de *Runge-Kutta* de orden 4 para resolverlas."
   ]
  },
  {
   "cell_type": "code",
   "execution_count": null,
   "id": "673523d2",
   "metadata": {},
   "outputs": [],
   "source": [
    "#Definimos las constantes del sistema\n",
    "sigma, beta, rho = 10.0, 8.0/3.0, 28.0\n",
    "\n",
    "#Seguido de proporcionar las condiciones iniciales \n",
    "#de cada cantidad\n",
    "x0, y0, z0 = 10.0, 0.1, 6.0\n",
    "\n",
    "#Asignamos el tiempo final para realizar los cálculos así como\n",
    "#el delta de tiempo a utilizar\n",
    "tf, dt = 100.0, 1e-4"
   ]
  },
  {
   "cell_type": "code",
   "execution_count": null,
   "id": "63d0c5cf",
   "metadata": {},
   "outputs": [],
   "source": [
    "#Calculamos el número de valores que se irán a calcular para dar\n",
    "#con el arreglo de tiempo a utilizar\n",
    "n_datos = int(1.0 + tf/dt)\n",
    "import numpy as np\n",
    "t = np.linspace(0.0, tf, n_datos).astype(np.float64)"
   ]
  },
  {
   "cell_type": "code",
   "execution_count": null,
   "id": "65cec5a1",
   "metadata": {},
   "outputs": [],
   "source": [
    "#Creamos las funciones correspondiente al método de RG4\n",
    "def dXdt(x,y,sig=sigma):\n",
    "    return sig*(y-x)\n",
    "\n",
    "def dYdt(x,y,z,rho=rho):\n",
    "    return (rho-z)*x-y\n",
    "\n",
    "def dZdt(x,y,z,b=beta):\n",
    "    return x*y-b*z\n",
    "\n",
    "def RungeKutta4Py(x,y,z,dt):\n",
    "    for i in range(1,t.size):\n",
    "        k1 = dt*dXdt( x[i-1], y[i-1] )\n",
    "        m1 = dt*dYdt( x[i-1], y[i-1], z[i-1] )\n",
    "        l1 = dt*dZdt( x[i-1], y[i-1], z[i-1] )\n",
    "\n",
    "        k2 = dt*dXdt( x[i-1]+ k1/2.0, y[i-1]+ m1/2.0 )\n",
    "        m2 = dt*dYdt( x[i-1]+ k1/2.0, y[i-1]+ m1/2.0, z[i-1]+ l1/2.0 )\n",
    "        l2 = dt*dZdt( x[i-1]+ k1/2.0, y[i-1]+ m1/2.0, z[i-1]+ l1/2.0 )\n",
    "\n",
    "        k3 = dt*dXdt( x[i-1]+ k2/2.0, y[i-1]+ m2/2.0 )\n",
    "        m3 = dt*dYdt( x[i-1]+ k2/2.0, y[i-1]+ m2/2.0, z[i-1]+ l2/2.0 )\n",
    "        l3 = dt*dZdt( x[i-1]+ k2/2.0, y[i-1]+ m2/2.0, z[i-1]+ l2/2.0 )\n",
    "\n",
    "        k4 = dt*dXdt( x[i-1]+ k3, y[i-1]+ m3 )\n",
    "        m4 = dt*dYdt( x[i-1]+ k3, y[i-1]+ m3, z[i-1]+ l3 )\n",
    "        l4 = dt*dZdt( x[i-1]+ k3, y[i-1]+ m3, z[i-1]+ l3 )\n",
    "\n",
    "        x[i] = x[i-1] + (k1+k2+k3+k4)/6.0\n",
    "        y[i] = y[i-1] + (m1+m2+m3+m4)/6.0\n",
    "        z[i] = z[i-1] + (l1+l2+l3+l4)/6.0"
   ]
  },
  {
   "cell_type": "code",
   "execution_count": null,
   "id": "cd3557de",
   "metadata": {},
   "outputs": [],
   "source": [
    "%load_ext Cython"
   ]
  },
  {
   "cell_type": "code",
   "execution_count": null,
   "id": "643b811f",
   "metadata": {},
   "outputs": [],
   "source": [
    "%%cython\n",
    "\n",
    "cimport cython\n",
    "import numpy as np\n",
    "cimport numpy as np\n",
    "\n",
    "cdef np.float64_t dXdtCy(np.float64_t x,np.float64_t y,np.float64_t sig):\n",
    "    return sig*(y-x)\n",
    "\n",
    "cdef np.float64_t dYdtCy(np.float64_t x,np.float64_t y,np.float64_t z,np.float64_t rho):\n",
    "    return (rho-z)*x-y\n",
    "\n",
    "cdef np.float64_t dZdtCy(np.float64_t x,np.float64_t y,np.float64_t z,np.float64_t b):\n",
    "    return x*y-b*z\n",
    "\n",
    "@cython.boundscheck(False)\n",
    "@cython.wraparound(False)\n",
    "def RungeKutta4Cy(np.float64_t[:] x,np.float64_t[:] y,np.float64_t[:] z,float dt, float sigma, float rho, float b):\n",
    "    cdef int N = x.shape[0]\n",
    "    cdef Py_ssize_t i\n",
    "    cdef np.float64_t k1,m1,l1, k2,m2,l2, k3,m3,l3 \n",
    "    \n",
    "    for i in range(1,N):\n",
    "        k1 = dt*dXdtCy( x[i-1], y[i-1], sigma )\n",
    "        m1 = dt*dYdtCy( x[i-1], y[i-1], z[i-1], rho )\n",
    "        l1 = dt*dZdtCy( x[i-1], y[i-1], z[i-1], b )\n",
    "\n",
    "        k2 = dt*dXdtCy( x[i-1]+ k1/2.0, y[i-1]+ m1/2.0, sigma )\n",
    "        m2 = dt*dYdtCy( x[i-1]+ k1/2.0, y[i-1]+ m1/2.0, z[i-1]+ l1/2.0, rho )\n",
    "        l2 = dt*dZdtCy( x[i-1]+ k1/2.0, y[i-1]+ m1/2.0, z[i-1]+ l1/2.0, b )\n",
    "\n",
    "        k3 = dt*dXdtCy( x[i-1]+ k2/2.0, y[i-1]+ m2/2.0, sigma )\n",
    "        m3 = dt*dYdtCy( x[i-1]+ k2/2.0, y[i-1]+ m2/2.0, z[i-1]+ l2/2.0, rho )\n",
    "        l3 = dt*dZdtCy( x[i-1]+ k2/2.0, y[i-1]+ m2/2.0, z[i-1]+ l2/2.0, b )\n",
    "\n",
    "        k4 = dt*dXdtCy( x[i-1]+ k3, y[i-1]+ m3, sigma )\n",
    "        m4 = dt*dYdtCy( x[i-1]+ k3, y[i-1]+ m3, z[i-1]+ l3, rho )\n",
    "        l4 = dt*dZdtCy( x[i-1]+ k3, y[i-1]+ m3, z[i-1]+ l3, b )\n",
    "\n",
    "        x[i] = x[i-1] + (k1+k2+k3+k4)/6.0\n",
    "        y[i] = y[i-1] + (m1+m2+m3+m4)/6.0\n",
    "        z[i] = z[i-1] + (l1+l2+l3+l4)/6.0"
   ]
  },
  {
   "cell_type": "code",
   "execution_count": null,
   "id": "c3a2e300",
   "metadata": {},
   "outputs": [],
   "source": [
    "#Creamos y fijamos la memoria requerida para almacenar tanto la\n",
    "#posicion inicial como los cálculos posteriores\n",
    "from numpy import zeros_like\n",
    "\n",
    "xPy,yPy,zPy = zeros_like(t),  zeros_like(t),  zeros_like(t)\n",
    "xCy,yCy,zCy = zeros_like(t),  zeros_like(t),  zeros_like(t)\n",
    "xPy[0], yPy[0], zPy[0] = x0,y0,z0\n",
    "xCy[0], yCy[0], zCy[0] = x0,y0,z0\n",
    "\n",
    "%timeit RungeKutta4Py(xPy, yPy, zPy, dt)\n",
    "%timeit RungeKutta4Cy(xCy, yCy, zCy , dt, sigma, rho, beta)"
   ]
  },
  {
   "cell_type": "code",
   "execution_count": null,
   "id": "b83d3b4c",
   "metadata": {},
   "outputs": [],
   "source": [
    "%matplotlib inline\n",
    "\n",
    "from mpl_toolkits.mplot3d.art3d import Line3DCollection\n",
    "from matplotlib.pyplot import figure, Normalize, show\n",
    "\n",
    "figura3D = figure(1, figsize=(10,10))\n",
    "sub3D = figura3D.add_subplot(111, projection=\"3d\")\n",
    "sub3D.set_xlim(xCy.min(), xCy.max())\n",
    "sub3D.set_ylim(yCy.min(), yCy.max())\n",
    "sub3D.set_zlim(zCy.min(), zCy.max())\n",
    "sub3D.set_xlabel(\"X\")\n",
    "sub3D.set_ylabel(\"Y\")\n",
    "sub3D.set_zlabel(\"Z\")\n",
    "\n",
    "normalizacion = Normalize(0, n_datos-1)\n",
    "ColeccionLineas = Line3DCollection([], cmap=\"jet\", norm=normalizacion)\n",
    "\n",
    "from numpy import arange, array, hstack\n",
    "ColeccionLineas.set_array(arange(n_datos))\n",
    "\n",
    "puntos = array([xCy[:], yCy[:], zCy[:]]).T.reshape(-1,1,3)\n",
    "segmentos = hstack([puntos[:-1], puntos[1:]])\n",
    "ColeccionLineas.set_segments(segmentos)\n",
    "sub3D.add_collection(ColeccionLineas)\n",
    "sub3D.grid(False)\n"
   ]
  },
  {
   "cell_type": "code",
   "execution_count": null,
   "id": "48d47411",
   "metadata": {},
   "outputs": [],
   "source": [
    "figuras2D = figure(2, figsize=(10,10))\n",
    "subX, subY, subZ = figuras2D.add_subplot(311),  figuras2D.add_subplot(312),  figuras2D.add_subplot(313)\n",
    "\n",
    "subX.set_ylabel(\"X\")\n",
    "subY.set_ylabel(\"Y\")\n",
    "subZ.set_xlabel(\"Tiempo\")\n",
    "subZ.set_ylabel(\"Z\")\n",
    "\n",
    "subX.plot(t,xCy,\"-r\")\n",
    "subY.plot(t,yCy,\"-g\")\n",
    "subZ.plot(t,zCy,\"-b\")\n",
    "\n",
    "\n",
    "show()"
   ]
  }
 ],
 "metadata": {
  "interpreter": {
   "hash": "ac59ebe37160ed0dfa835113d9b8498d9f09ceb179beaac4002f036b9467c963"
  },
  "kernelspec": {
   "display_name": "Python 3.9.1 64-bit",
   "name": "python3"
  },
  "language_info": {
   "codemirror_mode": {
    "name": "ipython",
    "version": 3
   },
   "file_extension": ".py",
   "mimetype": "text/x-python",
   "name": "python",
   "nbconvert_exporter": "python",
   "pygments_lexer": "ipython3",
   "version": "3.9.1"
  }
 },
 "nbformat": 4,
 "nbformat_minor": 5
}
